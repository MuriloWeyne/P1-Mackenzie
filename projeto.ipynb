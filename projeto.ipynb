{
 "cells": [
  {
   "cell_type": "markdown",
   "metadata": {},
   "source": [
    "<h1>Análise de Música e Popularidade no Spotify</h1>\n",
    "\n",
    "<h2>Objetivo</h2>\n",
    "\n",
    "<p>Este projeto tem como objetivo analisar como diferentes características musicais, como dançabilidade, tempo (BPM), energia, volume, entre outras, influenciam a popularidade das faixas no Spotify.</p>\n",
    "\n",
    "<h2>Metodologia</h2>\n",
    "<p>Utilizamos dados do Spotify para realizar uma análise exploratória, identificando padrões e correlações entre os atributos das músicas e seu desempenho na plataforma.</p>\n",
    "\n",
    "<h2>Estrutura do Projeto</h2>\n",
    "<ul>\n",
    "  <li>Importação de dados</li>\n",
    "  <li>Importação de bibliotecas</li>\n",
    "  <li>Pré-processamento e tratamento dos dados</li>\n",
    "  <li>Análise exploratória</li>\n",
    "  <li>Modelagem e resultados</li>\n",
    "  <li>Visualização de dados</li>\n",
    "  <li>Conclusões</li>\n",
    "</ul>\n",
    "\n",
    "<h2>Licença</h2>\n",
    "<p>Este projeto é licenciado sob a Licença MIT.</p>\n"
   ]
  }
 ],
 "metadata": {
  "kernelspec": {
   "display_name": ".venv",
   "language": "python",
   "name": "python3"
  },
  "language_info": {
   "name": "python",
   "version": "3.13.2"
  }
 },
 "nbformat": 4,
 "nbformat_minor": 2
}
